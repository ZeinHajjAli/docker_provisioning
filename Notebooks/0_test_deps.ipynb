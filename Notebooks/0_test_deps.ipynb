{
 "cells": [
  {
   "cell_type": "code",
   "execution_count": 2,
   "metadata": {},
   "outputs": [
    {
     "name": "stdout",
     "output_type": "stream",
     "text": [
      "NumPy Version: 1.24.3\n",
      "Pandas Version: 2.0.3\n",
      "Scikit-learn Version: 1.3.0\n",
      "Matplotlib Version: 3.7.2\n",
      "Num GPUs Available to TensorFlow: 1\n",
      "Num GPUs Available to PyTorch: 1\n"
     ]
    }
   ],
   "source": [
    "try:\n",
    "    import numpy as np\n",
    "    print(f'NumPy Version: {np.__version__}')\n",
    "except ImportError:\n",
    "    print('NumPy is not installed')\n",
    "    \n",
    "try:\n",
    "    import pandas as pd\n",
    "    print(f'Pandas Version: {pd.__version__}')\n",
    "except ImportError:\n",
    "    print('Pandas is not installed')\n",
    "\n",
    "try:\n",
    "    import sklearn\n",
    "    print(f'Scikit-learn Version: {sklearn.__version__}')\n",
    "except ImportError:\n",
    "    print('Scikit-learn is not installed')\n",
    "\n",
    "try:\n",
    "    import matplotlib\n",
    "    print(f'Matplotlib Version: {matplotlib.__version__}')\n",
    "except ImportError:\n",
    "    print('Matplotlib is not installed')\n",
    "\n",
    "try:\n",
    "    import tensorflow as tf\n",
    "    print(f\"Num GPUs Available to TensorFlow: {len(tf.config.list_physical_devices('GPU'))}\")\n",
    "except ImportError:\n",
    "    print('TensorFlow is not installed')\n",
    " \n",
    "try:\n",
    "    import torch\n",
    "    print(f'Num GPUs Available to PyTorch: {torch.cuda.device_count()}')\n",
    "except ImportError:\n",
    "    print('PyTorch is not installed')"
   ]
  }
 ],
 "metadata": {
  "kernelspec": {
   "display_name": "Python 3 (ipykernel)",
   "language": "python",
   "name": "python3"
  },
  "orig_nbformat": 4
 },
 "nbformat": 4,
 "nbformat_minor": 2
}
